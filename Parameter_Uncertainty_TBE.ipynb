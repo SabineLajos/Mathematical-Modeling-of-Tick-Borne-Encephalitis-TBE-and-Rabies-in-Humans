{
 "cells": [
  {
   "cell_type": "code",
   "execution_count": 1,
   "metadata": {},
   "outputs": [],
   "source": [
    "import os\n",
    "import numpy as np\n",
    "import pandas as pd\n",
    "from scipy.integrate import odeint\n",
    "import matplotlib.pyplot as plt\n",
    "import seaborn as sns\n",
    "sns.set()\n",
    "from tqdm.notebook import tqdm"
   ]
  },
  {
   "cell_type": "markdown",
   "metadata": {},
   "source": [
    "# Original Parameter values"
   ]
  },
  {
   "cell_type": "markdown",
   "metadata": {},
   "source": [
    "## ODE"
   ]
  },
  {
   "cell_type": "code",
   "execution_count": 2,
   "metadata": {},
   "outputs": [],
   "source": [
    "def f(x, t):\n",
    "    \n",
    "    x_1,x_2,x_3,x_4,x_5 = x \n",
    "   \n",
    "    dx_1 = λ_1 -(λ_2 * λ_3 * x_5 + λ_4 + λ_5)*x_1 + λ_6*x_2\n",
    "    dx_2 = λ_2 * λ_3 * x_5*(x_1 + δ*x_4)-(λ_6+λ_5+λ_7)*x_2\n",
    "    dx_3 = λ_7*x_2 -(λ_8 + λ_5+λ_9)*x_3 \n",
    "    dx_4 = λ_9*x_3 + λ_4*x_1 -(λ_5+λ_2*λ_3*δ*x_5)*x_4 \n",
    "        \n",
    "    dx_5 = λ_10*x_3*(1-x_5)/λ_3 - λ_11*x_5\n",
    "    \n",
    "    return [dx_1,dx_2,dx_3,dx_4,dx_5]\n"
   ]
  },
  {
   "cell_type": "markdown",
   "metadata": {},
   "source": [
    "\n",
    "## Initial values"
   ]
  },
  {
   "cell_type": "code",
   "execution_count": 3,
   "metadata": {},
   "outputs": [],
   "source": [
    "x_2 = 0\n",
    "x_3 = 0\n",
    "x_4 = 0\n",
    "x_5 = 0.05\n",
    "\n",
    "x_1 = 1  - x_2 - x_3 - x_4"
   ]
  },
  {
   "cell_type": "code",
   "execution_count": 4,
   "metadata": {},
   "outputs": [],
   "source": [
    "λ_h = 128227/(365*13.1e6) #2.68e-5\n",
    "λ_t = (1755278781*2)/(365*2.063e10) #4.67e-4\n",
    "\n",
    "μ_h = 134313/(365*13.1e6) #2.809e-5\n",
    "μ_e = 2/445 # 0.004\n",
    "μ_t = 1/(4*365) # 0.00068\n",
    "\n",
    "r_1 = 1/14 # 0.07\n",
    "r_2 = 1/14 # 0.07\n",
    "\n",
    "β_1 = 0.3*1/365 #8.2e-4  #0.3 \n",
    "β_dog = 2*0.3*1/365\n",
    "β_2 = 1/365 # 0.0027\n",
    "γ_h = 1/10.5 # 0.095\n",
    "\n",
    "ψ = 2.699e6/(13.1e6*365) #0.000564\n",
    "δ = 0.03 \n",
    "\n",
    "N_h = 13.1e6\n",
    "N_t= 2.063e10\n",
    "\n",
    "\n",
    "λ_1= λ_h/N_h\n",
    "λ_2= β_1\n",
    "λ_3= N_t/N_h\n",
    "λ_4= ψ\n",
    "λ_5= μ_h \n",
    "λ_6= r_2\n",
    "λ_7= γ_h\n",
    "λ_8= μ_e\n",
    "λ_9= r_1\n",
    "λ_10= β_2\n",
    "λ_11= μ_t\n"
   ]
  },
  {
   "cell_type": "code",
   "execution_count": 5,
   "metadata": {},
   "outputs": [],
   "source": [
    "params = np.array([λ_1, λ_2,λ_3,λ_4,λ_5,λ_6,λ_7,λ_8,λ_9,λ_10,λ_11])\n",
    "string_params = ['λ_1', 'λ_2', 'λ_3','λ_4','λ_5','λ_6','λ_7','λ_8','λ_9','λ_10','λ_11']"
   ]
  },
  {
   "cell_type": "code",
   "execution_count": 6,
   "metadata": {},
   "outputs": [],
   "source": [
    "x_1 = 1 - x_2 - x_3 - x_4\n",
    "\n",
    "\n",
    "x0 = [x_1, x_2, x_3, x_4,    #humans\n",
    "      x_5]  #ticks\n",
    "\n",
    "ts = np.linspace(0,183, 183)"
   ]
  },
  {
   "cell_type": "code",
   "execution_count": 7,
   "metadata": {},
   "outputs": [],
   "source": [
    "original = odeint(f,x0,ts)"
   ]
  },
  {
   "cell_type": "markdown",
   "metadata": {},
   "source": [
    "## Repeatedly Solve ODE with perturbed Parameters"
   ]
  },
  {
   "cell_type": "code",
   "execution_count": 8,
   "metadata": {},
   "outputs": [],
   "source": [
    "def perturb_params(n, original_params, scale):\n",
    "    \n",
    "    solutions = []\n",
    "    ts = np.linspace(0,183, 183)\n",
    "\n",
    "    for i in tqdm(range(n), leave = False):\n",
    "        perturbed_params = np.random.uniform( (1-scale)*original_params, (1+scale)*original_params)\n",
    "        \n",
    "        λ_1, λ_2,λ_3,λ_4,λ_5,λ_6,λ_7,λ_8,λ_9,λ_10,λ_11 = perturbed_params\n",
    "        x_1 = 1 - x_2 - x_3 - x_4\n",
    "        \n",
    "        x0 = [x_1, x_2, x_3, x_4,    #humans\n",
    "              x_5]  #ticks\n",
    "\n",
    "        ts = np.linspace(0,183, 183)\n",
    "\n",
    "        #define function again to get new params\n",
    "        def f(x, t):\n",
    "            x_1,x_2,x_3,x_4,x_5, = x \n",
    "   \n",
    "            dx_1 = λ_1 -(λ_2 * λ_3 * x_5 + λ_4 + λ_5)*x_1 + λ_6*x_2\n",
    "            dx_2 = λ_2 * λ_3 * x_5*(x_1 + δ*x_4)-(λ_6+λ_5+λ_7)*x_2\n",
    "            dx_3 = λ_7*x_2 -(λ_8 + λ_5+λ_9)*x_3 \n",
    "            dx_4 = λ_9*x_3 + λ_4*x_1 -(λ_5+λ_2*λ_3*δ*x_5)*x_4 \n",
    "        \n",
    "            dx_5 = λ_10*x_3*(1-x_5)/λ_3 - λ_11*x_5\n",
    "            return [dx_1,dx_2,dx_3,dx_4,dx_5]\n",
    "\n",
    "    solutions.append(odeint(f, x0, ts))\n",
    "        \n",
    "    return solutions"
   ]
  },
  {
   "cell_type": "markdown",
   "metadata": {},
   "source": [
    "## Functions for finding the minimum and maximum deviations"
   ]
  },
  {
   "cell_type": "code",
   "execution_count": 9,
   "metadata": {},
   "outputs": [],
   "source": [
    "def get_min_max_2(solutions):\n",
    "    sol_arr = np.array(solutions)\n",
    "    #get min/max solutions\n",
    "    S_max = np.amax(sol_arr, axis=0)\n",
    "    S_min = np.amin(sol_arr, axis=0)\n",
    "    #get index of min/max solutions, index is taken from the first entry, if multiple are available\n",
    "    S_max_index = np.argmax(sol_arr, axis=0)\n",
    "    S_min_index = np.argmin(sol_arr, axis=0)\n",
    "\n",
    "    return [S_max, S_min, S_max_index, S_min_index]"
   ]
  },
  {
   "cell_type": "code",
   "execution_count": 10,
   "metadata": {},
   "outputs": [],
   "source": [
    "def find_max_min_diviation_param(sol_max, sol_min, original_curves, index_max, index_min, changed_params):\n",
    "    save_max_param_per_compartment = []\n",
    "    save_min_param_per_compartment = []\n",
    "\n",
    "    k, n = sol_max.shape\n",
    "    for i in range(n):\n",
    "        ind_max = np.argmax(sol_max[:,i]-original_curves[:,i])\n",
    "        ind_min = np.argmin(sol_min[:,i]-original_curves[:,i]) #takes the most negative one\n",
    "        save_max_param_per_compartment.append(changed_params[index_max[ind_max,i]])\n",
    "        save_min_param_per_compartment.append(changed_params[index_min[ind_min,i]])\n",
    "    return [save_max_param_per_compartment, save_min_param_per_compartment]"
   ]
  },
  {
   "cell_type": "code",
   "execution_count": 11,
   "metadata": {},
   "outputs": [],
   "source": [
    "def perturb_single_param_2(n, original_params, scale, index):\n",
    "\n",
    "    mesh = np.linspace(original_params[index]*(1-scale), original_params[index]*(1+scale), n)\n",
    "    solutions = []\n",
    "    parameter_diviations = []\n",
    "    ts = np.linspace(0,183, 183)\n",
    "\n",
    "    for i in tqdm(range(n)):\n",
    "        perturbed_params = np.copy(original_params)\n",
    "        perturbed_params[index] = mesh[i]\n",
    "        parameter_diviations.append(mesh[i])\n",
    "        λ_1, λ_2,λ_3,λ_4,λ_5,λ_6,λ_7,λ_8,λ_9,λ_10,λ_11 = perturbed_params\n",
    "        x_1 = 1 - x_2 - x_3 - x_4\n",
    "\n",
    "\n",
    "        \n",
    "        x0 = [x_1, x_2, x_3, x_4,    #humans\n",
    "              x_5]  #ticks\n",
    "        #define function again to get new params\n",
    "        def f(x, t):\n",
    "            x_1,x_2,x_3,x_4,x_5, = x \n",
    "   \n",
    "            dx_1 = λ_1 -(λ_2 * λ_3 * x_5 + λ_4 + λ_5)*x_1 + λ_6*x_2\n",
    "            dx_2 = λ_2 * λ_3 * x_5*(x_1 + δ*x_4)-(λ_6+λ_5+λ_7)*x_2\n",
    "            dx_3 = λ_7*x_2 -(λ_8 + λ_5+λ_9)*x_3 \n",
    "            dx_4 = λ_9*x_3 + λ_4*x_1 -(λ_5+λ_2*λ_3*δ*x_5)*x_4 \n",
    "        \n",
    "            dx_5 = λ_10*x_3*(1-x_5)/λ_3 - λ_11*x_5\n",
    "    \n",
    "            return [dx_1,dx_2,dx_3,dx_4,dx_5]\n",
    "        solutions.append(odeint(f, x0, ts))\n",
    "\n",
    "    return solutions, parameter_diviations"
   ]
  },
  {
   "cell_type": "markdown",
   "metadata": {},
   "source": [
    "# Functions for an automatic plot"
   ]
  },
  {
   "cell_type": "code",
   "execution_count": 12,
   "metadata": {},
   "outputs": [],
   "source": [
    "def plot_compartments_2(original_curves, perturbed_params,  single_solution, string_params, index, file_specific_range = False):\n",
    "    compartment_names = ['x_1', 'x_2', 'x_3', 'x_4',    #humans\n",
    "                         'x_5'] #x_6 = S_h\n",
    "    S_max, S_min, S_max_index, S_min_index = get_min_max_2(single_solution)\n",
    "    max_params_per_comp, min_params_per_comp = find_max_min_diviation_param(S_max, S_min, original, S_max_index, S_min_index, perturbed_params)\n",
    "\n",
    "\n",
    "    #Epidemie\n",
    "    figure, axis = plt.subplots(4, 1)\n",
    "    plt.rcParams[\"figure.figsize\"] = (25/2,25/2)\n",
    "    for i in range(4):\n",
    "        axis[i].plot(ts, S_max[:,i], color = 'r')\n",
    "        axis[i].plot(ts, original_curves[:,i], color = 'g')\n",
    "        axis[i].plot(ts, S_min[:,i], color = 'b')\n",
    "        axis[i].legend(['max ' + string_params[index] +': ' + str(max_params_per_comp[i]),\n",
    "                        'original ' + string_params[index]+': '+ str(params[index]) ,\n",
    "                        'min ' + string_params[index] +': '+ str(min_params_per_comp[i])])\n",
    "        axis[i].set_title(compartment_names[i], fontsize = 16)\n",
    "\n",
    "    if file_specific_range == True:\n",
    "        figure.savefig('perturb_specific_range/epidemic_plot_' + string_params[index] +\n",
    "                       '_perturbed.jpg',bbox_inches = 'tight', dpi=500)\n",
    "    else:\n",
    "        figure.savefig('perturbed_compartment_plots/epidemic_plot_' + string_params[index] +\n",
    "                       '_perturbed.jpg',bbox_inches = 'tight', dpi=500)\n",
    "\n",
    "    plt.close(figure)\n",
    "    plt.close('all')\n",
    "\n",
    "\n",
    "    figure, axis = plt.subplots(2, 1)\n",
    "    plt.rcParams[\"figure.figsize\"] = (25/2,25/2)\n",
    "    for i in range(4,5):\n",
    "        axis[i-4].plot(ts, S_max[:,i], color = 'r')\n",
    "        axis[i-4].plot(ts, original_curves[:,i], color = 'g')\n",
    "        axis[i-4].plot(ts, S_min[:,i], color = 'b')\n",
    "        axis[i-4].legend(['max ' + string_params[index] +': ' + str(max_params_per_comp[i]),\n",
    "                        'original ' + string_params[index]+': '+ str(params[index]) ,\n",
    "                        'min ' + string_params[index] +': '+ str(min_params_per_comp[i])])\n",
    "        axis[i-4].set_title(compartment_names[i], fontsize = 16)\n",
    "\n",
    "    if file_specific_range == True:\n",
    "        figure.savefig('perturb_specific_range/tick_plot_' + string_params[index] +\n",
    "                       '_perturbed.jpg',bbox_inches = 'tight', dpi=500)\n",
    "    else:\n",
    "        figure.savefig('perturbed_compartment_plots/tick_plot_' + string_params[index] +\n",
    "                       '_perturbed.jpg', bbox_inches = 'tight', dpi=500)\n",
    "    plt.close(figure)\n",
    "    plt.close('all')"
   ]
  },
  {
   "cell_type": "code",
   "execution_count": 13,
   "metadata": {},
   "outputs": [],
   "source": [
    "def plot_compartments_all(original_curves, single_solution, string_params, index, file_specific_range = False):\n",
    "    compartment_names = ['x_1', 'x_2', 'x_3', 'x_4',    #humans\n",
    "                         'x_5'] # x_6=S_h\n",
    "\n",
    "    S_max, S_min, S_max_index, S_min_index = get_min_max_2(single_solution)\n",
    "\n",
    "    #Epidemie\n",
    "    figure, axis = plt.subplots(4, 1)\n",
    "    plt.rcParams[\"figure.figsize\"] = (25/2,25/2)\n",
    "    for i in range(4):\n",
    "        axis[i].plot(ts, S_max[:,i], color = 'r')\n",
    "        axis[i].plot(ts, original_curves[:,i], color = 'g')\n",
    "        axis[i].plot(ts, S_min[:,i], color = 'b')\n",
    "        axis[i].legend(['max','original','min'])\n",
    "        axis[i].set_title(compartment_names[i], fontsize = 16)\n",
    "\n",
    "    figure.savefig('perturbed_compartment_plots/epidemic_plot_' + string_params[index] +\n",
    "                   '_perturbed.jpg', bbox_inches='tight', dpi=500)\n",
    "    plt.close(figure)\n",
    "    plt.close('all')\n",
    "\n",
    " \n",
    "    figure, axis = plt.subplots(2, 1)\n",
    "    plt.rcParams[\"figure.figsize\"] = (25/2,25/2)\n",
    "    for i in range(4,5):\n",
    "        axis[i-4].plot(ts, S_max[:,i], color = 'r')\n",
    "        axis[i-4].plot(ts, original_curves[:,i], color = 'g')\n",
    "        axis[i-4].plot(ts, S_min[:,i], color = 'b')\n",
    "        axis[i-4].legend(['max','original','min'])\n",
    "        axis[i-4].set_title(compartment_names[i], fontsize = 16)\n",
    "\n",
    "    figure.savefig('perturbed_compartment_plots/tick_plot_' + string_params[index] +\n",
    "                   '_perturbed.jpg', bbox_inches='tight', dpi=500)\n",
    "    plt.close(figure)\n",
    "    plt.close('all')\n",
    "\n",
    "\n",
    "    #Only for the report\n",
    "\n",
    "    plt.figure(figsize=(8.46, 4.7))\n",
    "    plt.plot(ts, S_max[:,3], color = 'r')\n",
    "    plt.plot(ts, original_curves[:,3], color = 'g')\n",
    "    plt.plot(ts, S_min[:,i], color = 'b')\n",
    "    plt.xlabel(\"t in days\")\n",
    "    plt.title(\"Uncertainty of compartment $Q_2$\",fontsize = 16)\n",
    "    plt.legend(['max','original','min'])\n",
    "    plt.savefig('perturbed_compartment_plots/Simulation_uncertainty_all_perturbed_Q_2.jpg', bbox_inches = 'tight', dpi = 500)\n",
    "    plt.close(figure)\n",
    "    plt.close('all')"
   ]
  },
  {
   "cell_type": "markdown",
   "metadata": {},
   "source": [
    "# Functions for calculating and ordering the two uncertainty measures"
   ]
  },
  {
   "cell_type": "code",
   "execution_count": 14,
   "metadata": {},
   "outputs": [],
   "source": [
    "def find_most_uncertain_parameter(list_of_matrices,list_of_parameters):\n",
    "    n = len(list_of_matrices) #this corresponds to the number of parameters\n",
    "\n",
    "\n",
    "    #Calculate uncertainty by adding up all differences of the min and max curves\n",
    "    vector_rowSum = []\n",
    "    sum_all_compartments = []\n",
    "    for i in range(n):\n",
    "        A = np.matrix(np.copy(list_of_matrices[i]))\n",
    "        v = A.sum(axis=0)\n",
    "        deviation_all_compartments = np.sum(v)\n",
    "        vector_rowSum.append(deviation_all_compartments)\n",
    "        sum_all_compartments.append(v)\n",
    "    #we want a list of all parameters and their uncertainty value\n",
    "    ordered_by_uncertainty = []\n",
    "    #if the largest value is recorded, then the value is set to -1, to get the second biggest value.\n",
    "    for i in range(len(vector_rowSum)):\n",
    "        k = np.argmax(vector_rowSum)\n",
    "        value, name = vector_rowSum[k]/183, list_of_parameters[k]\n",
    "        ordered_by_uncertainty.append([name, value])\n",
    "        #the second largest. All values in these matrices are positive, so we simply put it to -1\n",
    "        vector_rowSum[k] = -1\n",
    "\n",
    "\n",
    "    return ordered_by_uncertainty"
   ]
  },
  {
   "cell_type": "markdown",
   "metadata": {},
   "source": [
    "## Plot all curves and calculate the sensitivity"
   ]
  },
  {
   "cell_type": "markdown",
   "metadata": {},
   "source": [
    "## You need a folder with the name: \"perturbed_compartment_plots\" in your path"
   ]
  },
  {
   "cell_type": "code",
   "execution_count": 15,
   "metadata": {},
   "outputs": [],
   "source": [
    "def plot_all_uncertainty_with_params(original_curves, params, string_params, n_perturb, perturb_scale):\n",
    "\n",
    "    list_of_maxMinusmin = []\n",
    "    for i in range(len(params)):\n",
    "        single_perturbed_sol, parameter_perturbed = perturb_single_param_2(n_perturb, params, perturb_scale, i)\n",
    "        S_max, S_min, S_max_index, S_min_index = get_min_max_2(single_perturbed_sol)\n",
    "        list_of_maxMinusmin.append(S_max-S_min)\n",
    "        plot_compartments_2(original_curves, parameter_perturbed, single_perturbed_sol, string_params, i)\n",
    "        print('Done with parameter ' + string_params[i])\n",
    "\n",
    "    #calculate the min/ max diviation quantitatively\n",
    "    print('Ordered from largest to smallest influence overall')\n",
    "    all_params_ordered_by_uncertainty = find_most_uncertain_parameter(list_of_maxMinusmin, string_params)\n",
    "    df = pd.DataFrame(all_params_ordered_by_uncertainty, columns=['param_name', 'value'])\n",
    "    df.to_csv('all_params_ordered_by_uncertainty.csv')\n",
    "    print(df)\n",
    "\n",
    "\n",
    "    #add plot: all params are perturbed\n",
    "    all_perturbed = perturb_params(n_perturb, params, perturb_scale)\n",
    "    plot_compartments_all(original_curves,  all_perturbed, ['all'],0)\n",
    "    print('All parameters were perturbed. The computation is done.')"
   ]
  },
  {
   "cell_type": "markdown",
   "metadata": {},
   "source": [
    "## Perform perturbation and uncertainty analysis"
   ]
  },
  {
   "cell_type": "markdown",
   "metadata": {},
   "source": [
    "The plots are saved in \"perturbed_compartment_plots\". \n",
    "\n",
    "The results of the uncertainty analysis is stored in two files:\n",
    "\n",
    "all_params_ordered_by_uncertainty.csv\n",
    "all_params_ordered_by_uncertainty_influence_on_I.csv"
   ]
  },
  {
   "cell_type": "code",
   "execution_count": 17,
   "metadata": {},
   "outputs": [
    {
     "data": {
      "application/vnd.jupyter.widget-view+json": {
       "model_id": "31befe8ab51f40fa9bf82b4cee75b558",
       "version_major": 2,
       "version_minor": 0
      },
      "text/plain": [
       "  0%|          | 0/100000 [00:00<?, ?it/s]"
      ]
     },
     "metadata": {},
     "output_type": "display_data"
    },
    {
     "name": "stdout",
     "output_type": "stream",
     "text": [
      "Done with parameter λ_1\n"
     ]
    },
    {
     "data": {
      "application/vnd.jupyter.widget-view+json": {
       "model_id": "6656c8266f71457c8b5729d14e21d3b0",
       "version_major": 2,
       "version_minor": 0
      },
      "text/plain": [
       "  0%|          | 0/100000 [00:00<?, ?it/s]"
      ]
     },
     "metadata": {},
     "output_type": "display_data"
    },
    {
     "name": "stdout",
     "output_type": "stream",
     "text": [
      "Done with parameter λ_2\n"
     ]
    },
    {
     "data": {
      "application/vnd.jupyter.widget-view+json": {
       "model_id": "c0a37df0de9a488eb718eea681e18751",
       "version_major": 2,
       "version_minor": 0
      },
      "text/plain": [
       "  0%|          | 0/100000 [00:00<?, ?it/s]"
      ]
     },
     "metadata": {},
     "output_type": "display_data"
    },
    {
     "name": "stdout",
     "output_type": "stream",
     "text": [
      "Done with parameter λ_3\n"
     ]
    },
    {
     "data": {
      "application/vnd.jupyter.widget-view+json": {
       "model_id": "33bf7216868447ffbf475604a4bc09ff",
       "version_major": 2,
       "version_minor": 0
      },
      "text/plain": [
       "  0%|          | 0/100000 [00:00<?, ?it/s]"
      ]
     },
     "metadata": {},
     "output_type": "display_data"
    },
    {
     "name": "stdout",
     "output_type": "stream",
     "text": [
      "Done with parameter λ_4\n"
     ]
    },
    {
     "data": {
      "application/vnd.jupyter.widget-view+json": {
       "model_id": "9dcffa2e44a446e9af8276e5d037ffc5",
       "version_major": 2,
       "version_minor": 0
      },
      "text/plain": [
       "  0%|          | 0/100000 [00:00<?, ?it/s]"
      ]
     },
     "metadata": {},
     "output_type": "display_data"
    },
    {
     "name": "stdout",
     "output_type": "stream",
     "text": [
      "Done with parameter λ_5\n"
     ]
    },
    {
     "data": {
      "application/vnd.jupyter.widget-view+json": {
       "model_id": "9fab0071a7b64d5f965c8feddd0a819b",
       "version_major": 2,
       "version_minor": 0
      },
      "text/plain": [
       "  0%|          | 0/100000 [00:00<?, ?it/s]"
      ]
     },
     "metadata": {},
     "output_type": "display_data"
    },
    {
     "name": "stdout",
     "output_type": "stream",
     "text": [
      "Done with parameter λ_6\n"
     ]
    },
    {
     "data": {
      "application/vnd.jupyter.widget-view+json": {
       "model_id": "bf7c310305984b048477b78cdb6bc852",
       "version_major": 2,
       "version_minor": 0
      },
      "text/plain": [
       "  0%|          | 0/100000 [00:00<?, ?it/s]"
      ]
     },
     "metadata": {},
     "output_type": "display_data"
    },
    {
     "name": "stdout",
     "output_type": "stream",
     "text": [
      "Done with parameter λ_7\n"
     ]
    },
    {
     "data": {
      "application/vnd.jupyter.widget-view+json": {
       "model_id": "e535dc45440e47cd896a0f5293992ba7",
       "version_major": 2,
       "version_minor": 0
      },
      "text/plain": [
       "  0%|          | 0/100000 [00:00<?, ?it/s]"
      ]
     },
     "metadata": {},
     "output_type": "display_data"
    },
    {
     "name": "stdout",
     "output_type": "stream",
     "text": [
      "Done with parameter λ_8\n"
     ]
    },
    {
     "data": {
      "application/vnd.jupyter.widget-view+json": {
       "model_id": "43e0740196aa4816bc7e1da6c88108fb",
       "version_major": 2,
       "version_minor": 0
      },
      "text/plain": [
       "  0%|          | 0/100000 [00:00<?, ?it/s]"
      ]
     },
     "metadata": {},
     "output_type": "display_data"
    },
    {
     "name": "stdout",
     "output_type": "stream",
     "text": [
      "Done with parameter λ_9\n"
     ]
    },
    {
     "data": {
      "application/vnd.jupyter.widget-view+json": {
       "model_id": "8db95026ae2b405c98b4f2679098ebd5",
       "version_major": 2,
       "version_minor": 0
      },
      "text/plain": [
       "  0%|          | 0/100000 [00:00<?, ?it/s]"
      ]
     },
     "metadata": {},
     "output_type": "display_data"
    },
    {
     "name": "stdout",
     "output_type": "stream",
     "text": [
      "Done with parameter λ_10\n"
     ]
    },
    {
     "data": {
      "application/vnd.jupyter.widget-view+json": {
       "model_id": "4aefb5025bb84b2383b9bc4420cfd699",
       "version_major": 2,
       "version_minor": 0
      },
      "text/plain": [
       "  0%|          | 0/100000 [00:00<?, ?it/s]"
      ]
     },
     "metadata": {},
     "output_type": "display_data"
    },
    {
     "name": "stdout",
     "output_type": "stream",
     "text": [
      "Done with parameter λ_11\n",
      "Ordered from largest to smallest influence overall\n",
      "   param_name         value\n",
      "0         λ_2  2.899817e-02\n",
      "1         λ_3  2.899606e-02\n",
      "2         λ_7  2.687382e-02\n",
      "3         λ_9  1.828604e-02\n",
      "4         λ_6  1.537835e-02\n",
      "5         λ_8  4.255874e-03\n",
      "6        λ_11  9.286249e-04\n",
      "7         λ_4  8.551079e-04\n",
      "8         λ_5  2.416570e-04\n",
      "9        λ_10  5.350133e-06\n",
      "10        λ_1  1.807607e-11\n"
     ]
    },
    {
     "data": {
      "application/vnd.jupyter.widget-view+json": {
       "model_id": "c580b2f0ec2f47f5b317d46aad75f481",
       "version_major": 2,
       "version_minor": 0
      },
      "text/plain": [
       "  0%|          | 0/100000 [00:00<?, ?it/s]"
      ]
     },
     "metadata": {},
     "output_type": "display_data"
    },
    {
     "name": "stdout",
     "output_type": "stream",
     "text": [
      "All parameters were perturbed. The computation is done.\n"
     ]
    }
   ],
   "source": [
    "plot_all_uncertainty_with_params(original, params, string_params,100000, 0.05)"
   ]
  }
 ],
 "metadata": {
  "kernelspec": {
   "display_name": "Python 3.8.8 ('base')",
   "language": "python",
   "name": "python3"
  },
  "language_info": {
   "codemirror_mode": {
    "name": "ipython",
    "version": 3
   },
   "file_extension": ".py",
   "mimetype": "text/x-python",
   "name": "python",
   "nbconvert_exporter": "python",
   "pygments_lexer": "ipython3",
   "version": "3.8.8"
  },
  "orig_nbformat": 4,
  "vscode": {
   "interpreter": {
    "hash": "89f309fc510569326e958f3e3e82d3e25292ddb234b2d9b2d9997a51e80537a4"
   }
  }
 },
 "nbformat": 4,
 "nbformat_minor": 2
}
