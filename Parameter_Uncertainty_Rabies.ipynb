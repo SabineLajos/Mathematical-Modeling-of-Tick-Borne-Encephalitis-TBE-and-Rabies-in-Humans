{
 "cells": [
  {
   "cell_type": "code",
   "execution_count": 33,
   "metadata": {
    "pycharm": {
     "name": "#%%\n"
    }
   },
   "outputs": [],
   "source": [
    "import os\n",
    "import numpy as np\n",
    "import pandas as pd\n",
    "from scipy.integrate import odeint\n",
    "import matplotlib.pyplot as plt\n",
    "import seaborn as sns\n",
    "sns.set()\n",
    "from tqdm.notebook import tqdm\n",
    "import scipy as sp\n",
    "from scipy.integrate import solve_ivp\n",
    "from scipy.integrate import ode\n",
    "import seaborn as sns\n"
   ]
  },
  {
   "cell_type": "markdown",
   "metadata": {
    "pycharm": {
     "name": "#%% md\n"
    }
   },
   "source": [
    "# Original Parameter values"
   ]
  },
  {
   "cell_type": "markdown",
   "metadata": {
    "pycharm": {
     "name": "#%% md\n"
    }
   },
   "source": [
    "\n",
    "## Initial values"
   ]
  },
  {
   "cell_type": "code",
   "execution_count": 34,
   "metadata": {
    "pycharm": {
     "name": "#%%\n"
    }
   },
   "outputs": [],
   "source": [
    "N_h= 1.29e9 + 250+89+2e5\n",
    "N_d = 3.5e7 +2e5+1e5+2e5\n",
    "\n",
    "E_d = 2e5/N_d\n",
    "I_d = 1e5/N_d\n",
    "Q_d = 0\n",
    "V_d = 2e5/N_d\n",
    "\n",
    "E_h = 250/N_h\n",
    "I_h = 89/N_h\n",
    "V_h = 2e5/N_h\n",
    "\n",
    "S_d = 3.5e7/N_d\n",
    "S_h = 1.29e9/N_h"
   ]
  },
  {
   "cell_type": "code",
   "execution_count": 35,
   "metadata": {
    "pycharm": {
     "name": "#%%\n"
    }
   },
   "outputs": [],
   "source": [
    "λ_h = 1.54e7\n",
    "λ_d = 3e6\n",
    "\n",
    "μ_h = 0.0066\n",
    "μ_e = 0.3 ######\n",
    "μ_d = 0.08\n",
    "μ_rd= 1\n",
    "μ_rh= 1\n",
    "\n",
    "r_1 = 365/45 #####\n",
    "δ = 0.01 #####\n",
    "σ_d= 0.12 ######\n",
    "\n",
    "β_dd= 1.58e-7 * N_d\n",
    "β_dh= 2.29e-12 * N_h\n",
    "\n",
    "ψ_d=0.09\n",
    "ψ_h=0.54\n",
    "\n",
    "γ_d=6\n",
    "γ_h=6\n",
    "\n",
    "χ_d=0.4\n",
    "χ_h=0.4\n",
    " \n",
    "α_d=1\n",
    "α_h=1"
   ]
  },
  {
   "cell_type": "markdown",
   "metadata": {
    "pycharm": {
     "name": "#%% md\n"
    }
   },
   "source": [
    "## ODE"
   ]
  },
  {
   "cell_type": "code",
   "execution_count": 36,
   "metadata": {
    "pycharm": {
     "name": "#%%\n"
    }
   },
   "outputs": [],
   "source": [
    "def f(t, x):\n",
    "    \n",
    "   S_d, E_d, I_d, Q_d, V_d,    S_h,E_h,I_h,V_h = x\n",
    "   \n",
    "  \n",
    "\n",
    "   dS_d = λ_d / N_d -(μ_d + ψ_d)*S_d -(β_dd*I_d*S_d)/(1-Q_d)  + γ_d*(1-χ_d)*E_d +α_d*V_d + r_1*Q_d\n",
    "   dE_d = -(μ_e + γ_d + σ_d + μ_d + ψ_d)*E_d + (β_dd*I_d*(S_d+V_d*δ))/(1-Q_d)\n",
    "   dI_d = γ_d*χ_d*E_d -(μ_d + μ_rd)*I_d\n",
    "   dQ_d = σ_d*E_d -(r_1 + μ_d + μ_e +  μ_rd)*Q_d \n",
    "   dV_d = -(μ_d + α_d)*V_d -(β_dd*I_d*V_d*δ)/(1-Q_d) + ψ_d*(S_d  + E_d)\n",
    "    \n",
    "   dS_h = λ_h/N_h -(μ_h +ψ_h)*S_h -(β_dh*I_d*S_h)*N_d/N_h  + γ_h*(1-χ_h)*E_h +α_h*V_h \n",
    "   dE_h = (β_dh*I_d*(S_h+V_h*δ)*N_d/N_h) - (γ_h + μ_h + ψ_h)*E_h\n",
    "   dI_h = γ_h*χ_h*E_h -(μ_h + μ_rh)*I_h\n",
    "   dV_h = -(μ_h + α_h)*V_h -(β_dh*I_d*V_h*δ)*N_d/N_h + ψ_h*(S_h + E_h) \n",
    "    \n",
    "   return [dS_d, dE_d, dI_d, dQ_d, dV_d, dS_h, dE_h, dI_h, dV_h]"
   ]
  },
  {
   "cell_type": "code",
   "execution_count": 37,
   "metadata": {
    "pycharm": {
     "name": "#%%\n"
    }
   },
   "outputs": [],
   "source": [
    "params = np.array([λ_h,λ_d,μ_h,μ_e,μ_d,μ_rd,μ_rh,r_1,δ,σ_d,β_dd,β_dh,\n",
    "                    ψ_d,ψ_h,γ_d,γ_h,χ_d,χ_h,α_d,α_h])\n",
    "string_params = ['λ_h','λ_d','μ_h','μ_e','μ_d','μ_rd','μ_rh','r_1','δ','σ_d','β_dd','β_dh',\n",
    "                    'ψ_d','ψ_h','γ_d','γ_h','χ_d','χ_h','α_d','α_h']"
   ]
  },
  {
   "cell_type": "code",
   "execution_count": 38,
   "metadata": {
    "pycharm": {
     "name": "#%%\n"
    }
   },
   "outputs": [],
   "source": [
    "x0 = [S_d, E_d, I_d, Q_d, V_d,    #dogs\n",
    "      S_h, E_h, I_h, V_h]  #humans\n",
    "\n",
    "t_span=(0,50)"
   ]
  },
  {
   "cell_type": "code",
   "execution_count": 39,
   "metadata": {
    "pycharm": {
     "name": "#%%\n"
    }
   },
   "outputs": [],
   "source": [
    "original_ivp_version = solve_ivp(f, t_span=(0,50), y0=x0, method=\"BDF\", rtol=1e-8, t_eval=np.linspace(0,50,t_span[1]+1))#, max_step=1e-4)\n",
    "#convert into lists\n",
    "original = np.zeros((len(range(t_span[1]+1)),9))\n",
    "for j in range(0,9):\n",
    "    original[:,j] = original_ivp_version.y[j]"
   ]
  },
  {
   "cell_type": "markdown",
   "metadata": {
    "pycharm": {
     "name": "#%% md\n"
    }
   },
   "source": [
    "## Repeatedly Solve ODE with perturbed Parameters"
   ]
  },
  {
   "cell_type": "code",
   "execution_count": 40,
   "metadata": {
    "pycharm": {
     "name": "#%%\n"
    }
   },
   "outputs": [],
   "source": [
    "def perturb_params(n, original_params, scale):\n",
    "    \n",
    "    solutions = []\n",
    "\n",
    "    for i in tqdm(range(n), leave = False):\n",
    "        perturbed_params = np.random.uniform( (1-scale)*original_params, (1+scale)*original_params)\n",
    "        \n",
    "        λ_h,λ_d,μ_h,μ_e,μ_d,μ_rd,μ_rh,r_1,δ,σ_d,β_dd,β_dh, ψ_d,ψ_h,γ_d,γ_h,χ_d,χ_h,α_d,α_h = perturbed_params\n",
    "\n",
    "        \n",
    "        x0 = [S_d, E_d, I_d, Q_d, V_d,    #dogs\n",
    "              S_h, E_h, I_h, V_h]\n",
    "\n",
    "        #define function again to get new params\n",
    "        def f(t, x):\n",
    "    \n",
    "            S_d, E_d, I_d, Q_d, V_d,    S_h,E_h,I_h,V_h = x\n",
    "   \n",
    "  \n",
    "\n",
    "            dS_d = λ_d / N_d -(μ_d + ψ_d)*S_d -(β_dd*I_d*S_d)/(1-Q_d)  + γ_d*(1-χ_d)*E_d +α_d*V_d + r_1*Q_d\n",
    "            dE_d = -(μ_e + γ_d + σ_d + μ_d + ψ_d)*E_d + (β_dd*I_d*(S_d+V_d*δ))/(1-Q_d)\n",
    "            dI_d = γ_d*χ_d*E_d -(μ_d + μ_rd)*I_d\n",
    "            dQ_d = σ_d*E_d -(r_1 + μ_d + μ_e +  μ_rd)*Q_d \n",
    "            dV_d = -(μ_d + α_d)*V_d -(β_dd*I_d*V_d*δ)/(1-Q_d) + ψ_d*(S_d  + E_d)\n",
    "    \n",
    "            dS_h = λ_h/N_h -(μ_h +ψ_h)*S_h -(β_dh*I_d*S_h)*N_d/N_h  + γ_h*(1-χ_h)*E_h +α_h*V_h \n",
    "            dE_h = (β_dh*I_d*(S_h+V_h*δ)*N_d/N_h) - (γ_h + μ_h + ψ_h)*E_h\n",
    "            dI_h = γ_h*χ_h*E_h -(μ_h + μ_rh)*I_h\n",
    "            dV_h = -(μ_h + α_h)*V_h -(β_dh*I_d*V_h*δ)*N_d/N_h + ψ_h*(S_h + E_h) \n",
    "\n",
    "            return [dS_d, dE_d, dI_d, dQ_d, dV_d, dS_h, dE_h, dI_h, dV_h]\n",
    "        solutions.append(solve_ivp(f, t_span=(0,50), y0=x0, method=\"BDF\", rtol=1e-8,t_eval=np.linspace(t_span[0],t_span[1],t_span[1]+1)))#, max_step=1e-4))\n",
    "        #print(solutions[0].y)\n",
    "        \n",
    "    #convert into the right shapes\n",
    "    A_solutions = np.zeros((n,len(range(t_span[1]+1)),9))\n",
    "    for i in range(0,n):\n",
    "        for j in range(0,9):\n",
    "            A_solutions[i,:,j] = solutions[i].y[j]\n",
    "        \n",
    "    return A_solutions"
   ]
  },
  {
   "cell_type": "markdown",
   "metadata": {
    "pycharm": {
     "name": "#%% md\n"
    }
   },
   "source": [
    "## Functions for finding the minimum and maximum deviations"
   ]
  },
  {
   "cell_type": "code",
   "execution_count": 41,
   "metadata": {
    "pycharm": {
     "name": "#%%\n"
    }
   },
   "outputs": [],
   "source": [
    "def get_min_max_2(solutions):\n",
    "    sol_arr = np.array(solutions)\n",
    "    #get min/max solutions\n",
    "    S_max = np.amax(sol_arr, axis=0)\n",
    "    S_min = np.amin(sol_arr, axis=0)\n",
    "    #get index of min/max solutions, index is taken from the first entry, if multiple are available\n",
    "    S_max_index = np.argmax(sol_arr, axis=0)\n",
    "    S_min_index = np.argmin(sol_arr, axis=0)\n",
    "\n",
    "    return [S_max, S_min, S_max_index, S_min_index]"
   ]
  },
  {
   "cell_type": "code",
   "execution_count": 42,
   "metadata": {
    "pycharm": {
     "name": "#%%\n"
    }
   },
   "outputs": [],
   "source": [
    "def find_max_min_diviation_param(sol_max, sol_min, original_curves, index_max, index_min, changed_params):\n",
    "    save_max_param_per_compartment = []\n",
    "    save_min_param_per_compartment = []\n",
    "\n",
    "    k, n = sol_max.shape\n",
    "    print(original_curves.shape)\n",
    "    for i in range(n):\n",
    "        ind_max = np.argmax(sol_max[:,i]-original_curves[:,i])\n",
    "        ind_min = np.argmin(sol_min[:,i]-original_curves[:,i]) #takes the most negative one\n",
    "        save_max_param_per_compartment.append(changed_params[index_max[ind_max,i]])\n",
    "        save_min_param_per_compartment.append(changed_params[index_min[ind_min,i]])\n",
    "    return [save_max_param_per_compartment, save_min_param_per_compartment]"
   ]
  },
  {
   "cell_type": "code",
   "execution_count": 43,
   "metadata": {
    "pycharm": {
     "name": "#%%\n"
    }
   },
   "outputs": [],
   "source": [
    "def perturb_single_param_2(n, original_params, scale, index):\n",
    "\n",
    "    mesh = np.linspace(original_params[index]*(1-scale), original_params[index]*(1+scale), n)\n",
    "    solutions = []\n",
    "    parameter_diviations = []\n",
    "    ts = np.linspace(0,50, t_span[1]+1)\n",
    "\n",
    "    for i in tqdm(range(n)):\n",
    "        perturbed_params = np.copy(original_params)\n",
    "        perturbed_params[index] = mesh[i]\n",
    "        parameter_diviations.append(mesh[i])\n",
    "        λ_h,λ_d,μ_h,μ_e,μ_d,μ_rd,μ_rh,r_1,δ,σ_d,β_dd,β_dh, ψ_d,ψ_h,γ_d,γ_h,χ_d,χ_h,α_d,α_h = perturbed_params\n",
    "\n",
    "        \n",
    "        x0 = [S_d, E_d, I_d, Q_d, V_d,    #dogs\n",
    "              S_h, E_h, I_h, V_h]\n",
    "\n",
    "        #define function again to get new params\n",
    "        def f(t, x):\n",
    "    \n",
    "            S_d, E_d, I_d, Q_d, V_d,    S_h,E_h,I_h,V_h = x\n",
    "   \n",
    "  \n",
    "\n",
    "            dS_d = λ_d / N_d -(μ_d + ψ_d)*S_d -(β_dd*I_d*S_d)/(1-Q_d)  + γ_d*(1-χ_d)*E_d +α_d*V_d + r_1*Q_d\n",
    "            dE_d = -(μ_e + γ_d + σ_d + μ_d + ψ_d)*E_d + (β_dd*I_d*(S_d+V_d*δ))/(1-Q_d)\n",
    "            dI_d = γ_d*χ_d*E_d -(μ_d + μ_rd)*I_d\n",
    "            dQ_d = σ_d*E_d -(r_1 + μ_d + μ_e +  μ_rd)*Q_d \n",
    "            dV_d = -(μ_d + α_d)*V_d -(β_dd*I_d*V_d*δ)/(1-Q_d) + ψ_d*(S_d  + E_d)\n",
    "    \n",
    "            dS_h = λ_h/N_h -(μ_h +ψ_h)*S_h -(β_dh*I_d*S_h)*N_d/N_h  + γ_h*(1-χ_h)*E_h +α_h*V_h \n",
    "            dE_h = (β_dh*I_d*(S_h+V_h*δ)*N_d/N_h) - (γ_h + μ_h + ψ_h)*E_h\n",
    "            dI_h = γ_h*χ_h*E_h -(μ_h + μ_rh)*I_h\n",
    "            dV_h = -(μ_h + α_h)*V_h -(β_dh*I_d*V_h*δ)*N_d/N_h + ψ_h*(S_h + E_h) \n",
    "\n",
    "            return [dS_d, dE_d, dI_d, dQ_d, dV_d, dS_h, dE_h, dI_h, dV_h]\n",
    "        solutions.append(solve_ivp(f, t_span=(0,50), y0=x0, method=\"BDF\", rtol=1e-8,t_eval=np.linspace(t_span[0],t_span[1],t_span[1]+1)))#, max_step=1e-4))\n",
    "\n",
    "    #convert into the right shapes\n",
    "    A_solutions = np.zeros((n,len(range(t_span[1]+1)),9))\n",
    "    for i in range(0,n):\n",
    "        for j in range(0,9):\n",
    "            A_solutions[i,:,j] = solutions[i].y[j]\n",
    "\n",
    "    return A_solutions, parameter_diviations"
   ]
  },
  {
   "cell_type": "markdown",
   "metadata": {
    "pycharm": {
     "name": "#%% md\n"
    }
   },
   "source": [
    "# Functions for an automatic plot"
   ]
  },
  {
   "cell_type": "code",
   "execution_count": 44,
   "metadata": {
    "pycharm": {
     "name": "#%%\n"
    }
   },
   "outputs": [],
   "source": [
    "def plot_compartments_2(original_curves, perturbed_params,  single_solution, string_params, index, file_specific_range = False):\n",
    "    compartment_names = ['S_d', 'E_d', 'I_d', 'Q_d', 'V_d',    #humans\n",
    "                         'S_h', 'E_h', 'I_h', 'V_h'] #x_6 = S_h\n",
    "    S_max, S_min, S_max_index, S_min_index = get_min_max_2(single_solution)\n",
    "    max_params_per_comp, min_params_per_comp = find_max_min_diviation_param(S_max, S_min, original, S_max_index, S_min_index, perturbed_params)\n",
    "\n",
    "\n",
    "   \n",
    "    figure, axis = plt.subplots(5, 1)\n",
    "    plt.rcParams[\"figure.figsize\"] = (25/2,25/2)\n",
    "    for i in range(5):\n",
    "        axis[i].plot(range(t_span[1]+1), S_max[:,i], color = 'r')\n",
    "        axis[i].plot(range(t_span[1]+1), original_curves[:,i], color = 'g')\n",
    "        axis[i].plot(range(t_span[1]+1), S_min[:,i], color = 'b')\n",
    "        axis[i].legend(['max ' + string_params[index] +': ' + str(max_params_per_comp[i]),\n",
    "                        'original ' + string_params[index]+': '+ str(params[index]) ,\n",
    "                        'min ' + string_params[index] +': '+ str(min_params_per_comp[i])])\n",
    "        axis[i].set_title(compartment_names[i], fontsize = 16)\n",
    "\n",
    "    if file_specific_range == True:\n",
    "        figure.savefig('perturb_specific_range/dog_plot_' + string_params[index] +\n",
    "                       '_perturbed.jpg',bbox_inches = 'tight', dpi=500)\n",
    "    else:\n",
    "        figure.savefig('perturbed_compartment_plots/dog_plot_' + string_params[index] +\n",
    "                       '_perturbed.jpg',bbox_inches = 'tight', dpi=500)\n",
    "\n",
    "    plt.close(figure)\n",
    "    plt.close('all')\n",
    "\n",
    "\n",
    "    figure, axis = plt.subplots(4, 1)\n",
    "    plt.rcParams[\"figure.figsize\"] = (25/2,25/2)\n",
    "    for i in range(5,9):\n",
    "        axis[i-5].plot(range(t_span[1]+1), S_max[:,i], color = 'r')\n",
    "        axis[i-5].plot(range(t_span[1]+1), original_curves[:,i], color = 'g')\n",
    "        axis[i-5].plot(range(t_span[1]+1), S_min[:,i], color = 'b')\n",
    "        axis[i-5].legend(['max ' + string_params[index] +': ' + str(max_params_per_comp[i]),\n",
    "                        'original ' + string_params[index]+': '+ str(params[index]) ,\n",
    "                        'min ' + string_params[index] +': '+ str(min_params_per_comp[i])])\n",
    "        axis[i-5].set_title(compartment_names[i], fontsize = 16)\n",
    "\n",
    "    if file_specific_range == True:\n",
    "        figure.savefig('perturb_specific_range/human_plot_' + string_params[index] +\n",
    "                       '_perturbed.jpg',bbox_inches = 'tight', dpi=500)\n",
    "    else:\n",
    "        figure.savefig('perturbed_compartment_plots/human_plot_' + string_params[index] +\n",
    "                       '_perturbed.jpg', bbox_inches = 'tight', dpi=500)\n",
    "    plt.close(figure)\n",
    "    plt.close('all')"
   ]
  },
  {
   "cell_type": "code",
   "execution_count": 45,
   "metadata": {
    "pycharm": {
     "name": "#%%\n"
    }
   },
   "outputs": [],
   "source": [
    "def plot_compartments_all(original_curves, single_solution, string_params, index, file_specific_range = False):\n",
    "    compartment_names = ['S_d', 'E_d', 'I_d', 'Q_d', 'V_d',    #humans\n",
    "                         'S_h', 'E_h', 'I_h', 'V_h'] # x_6=S_h\n",
    "\n",
    "    S_max, S_min, S_max_index, S_min_index = get_min_max_2(single_solution)\n",
    "\n",
    "    \n",
    "    figure, axis = plt.subplots(5, 1)\n",
    "    plt.rcParams[\"figure.figsize\"] = (25/2,25/2)\n",
    "    for i in range(5):\n",
    "        axis[i].plot(range(t_span[1]+1), S_max[:,i], color = 'r')\n",
    "        axis[i].plot(range(t_span[1]+1), original_curves[:,i], color = 'g')\n",
    "        axis[i].plot(range(t_span[1]+1), S_min[:,i], color = 'b')\n",
    "        axis[i].legend(['max','original','min'])\n",
    "        axis[i].set_title(compartment_names[i], fontsize = 16)\n",
    "\n",
    "    figure.savefig('perturbed_compartment_plots/dog_plot_' + string_params[index] +\n",
    "                   '_perturbed.jpg', bbox_inches='tight', dpi=500)\n",
    "    plt.close(figure)\n",
    "    plt.close('all')\n",
    "\n",
    "   \n",
    "    figure, axis = plt.subplots(4, 1)\n",
    "    plt.rcParams[\"figure.figsize\"] = (25/2,25/2)\n",
    "    for i in range(5,9):\n",
    "        axis[i-5].plot(range(t_span[1]+1), S_max[:,i], color = 'r')\n",
    "        axis[i-5].plot(range(t_span[1]+1), original_curves[:,i], color = 'g')\n",
    "        axis[i-5].plot(range(t_span[1]+1), S_min[:,i], color = 'b')\n",
    "        axis[i-5].legend(['max','original','min'])\n",
    "        axis[i-5].set_title(compartment_names[i], fontsize = 16)\n",
    "\n",
    "    figure.savefig('perturbed_compartment_plots/human_plot_' + string_params[index] +\n",
    "                   '_perturbed.jpg', bbox_inches='tight', dpi=500)\n",
    "    plt.close(figure)\n",
    "    plt.close('all')"
   ]
  },
  {
   "cell_type": "markdown",
   "metadata": {
    "pycharm": {
     "name": "#%% md\n"
    }
   },
   "source": [
    "# Functions for calculating and ordering the two uncertainty measures"
   ]
  },
  {
   "cell_type": "code",
   "execution_count": 46,
   "metadata": {
    "pycharm": {
     "name": "#%%\n"
    }
   },
   "outputs": [],
   "source": [
    "def find_most_uncertain_parameter(list_of_matrices,list_of_parameters):\n",
    "    n = len(list_of_matrices) #this corresponds to the number of parameters\n",
    "\n",
    "\n",
    "    #Calculate uncertainty by adding up all differences of the min and max curves\n",
    "    vector_rowSum = []\n",
    "    sum_all_compartments = []\n",
    "    for i in range(n):\n",
    "        A = np.matrix(np.copy(list_of_matrices[i]))\n",
    "        v = A.sum(axis=0)\n",
    "        deviation_all_compartments = np.sum(v)\n",
    "        vector_rowSum.append(deviation_all_compartments)\n",
    "        sum_all_compartments.append(v)\n",
    "    #we want a list of all parameters and their uncertainty value\n",
    "    ordered_by_uncertainty = []\n",
    "    #if the largest value is recorded, then the value is set to -1, to get the second biggest value.\n",
    "    for i in range(len(vector_rowSum)):\n",
    "        k = np.argmax(vector_rowSum)\n",
    "        value, name = vector_rowSum[k]/50, list_of_parameters[k]\n",
    "        ordered_by_uncertainty.append([name, value])\n",
    "        #the second largest. All values in these matrices are positive, so we simply put it to -1\n",
    "        vector_rowSum[k] = -1\n",
    "\n",
    "\n",
    "    return ordered_by_uncertainty"
   ]
  },
  {
   "cell_type": "markdown",
   "metadata": {
    "pycharm": {
     "name": "#%% md\n"
    }
   },
   "source": [
    "## Plot all curves and calculate the sensitivity"
   ]
  },
  {
   "cell_type": "markdown",
   "metadata": {
    "pycharm": {
     "name": "#%% md\n"
    }
   },
   "source": [
    "### You need a folder with the name: \"perturbed_compartment_plots\" in your path"
   ]
  },
  {
   "cell_type": "code",
   "execution_count": 47,
   "metadata": {
    "pycharm": {
     "name": "#%%\n"
    }
   },
   "outputs": [],
   "source": [
    "def plot_all_uncertainty_with_params(original_curves, params, string_params, n_perturb, perturb_scale):\n",
    "\n",
    "    list_of_maxMinusmin = []\n",
    "    for i in range(len(params)):\n",
    "        single_perturbed_sol, parameter_perturbed = perturb_single_param_2(n_perturb, params, perturb_scale, i)\n",
    "        S_max, S_min, S_max_index, S_min_index = get_min_max_2(single_perturbed_sol)\n",
    "        list_of_maxMinusmin.append(S_max-S_min)\n",
    "        plot_compartments_2(original_curves, parameter_perturbed, single_perturbed_sol, string_params, i)\n",
    "        print('Done with parameter ' + string_params[i])\n",
    "\n",
    "    #calculate the min/ max diviation quantitatively\n",
    "    print('Ordered from largest to smallest influence overall')\n",
    "    all_params_ordered_by_uncertainty = find_most_uncertain_parameter(list_of_maxMinusmin, string_params)\n",
    "    df = pd.DataFrame(all_params_ordered_by_uncertainty, columns=['param_name', 'value'])\n",
    "    df.to_csv('all_params_ordered_by_uncertainty.csv')\n",
    "    print(df)\n",
    "\n",
    "\n",
    "    #add plot: all params are perturbed\n",
    "    all_perturbed = perturb_params(n_perturb, params, perturb_scale)\n",
    "    plot_compartments_all(original_curves,  all_perturbed, ['all'],0)\n",
    "    print('All parameters were perturbed. The computation is done.')"
   ]
  },
  {
   "cell_type": "markdown",
   "metadata": {
    "pycharm": {
     "name": "#%% md\n"
    }
   },
   "source": [
    "## Perform perturbation and uncertainty analysis"
   ]
  },
  {
   "cell_type": "markdown",
   "metadata": {
    "pycharm": {
     "name": "#%% md\n"
    }
   },
   "source": [
    "The calculations and plots are carried out automatically.\n",
    "\n",
    "The plots are saved in \"perturbed_compartment_plots\". The results of the uncertainty analysis is stored in two files:\n",
    "\n",
    "all_params_ordered_by_uncertainty.csv\n",
    "all_params_ordered_by_uncertainty_influence_on_I.csv"
   ]
  },
  {
   "cell_type": "code",
   "execution_count": 49,
   "metadata": {
    "pycharm": {
     "name": "#%%\n"
    }
   },
   "outputs": [
    {
     "data": {
      "application/vnd.jupyter.widget-view+json": {
       "model_id": "2bb15b6e58a0432cbeea308c414b7e3e",
       "version_major": 2,
       "version_minor": 0
      },
      "text/plain": [
       "  0%|          | 0/50000 [00:00<?, ?it/s]"
      ]
     },
     "metadata": {},
     "output_type": "display_data"
    },
    {
     "name": "stdout",
     "output_type": "stream",
     "text": [
      "(51, 9)\n",
      "Done with parameter λ_h\n"
     ]
    },
    {
     "data": {
      "application/vnd.jupyter.widget-view+json": {
       "model_id": "3c75e35177964003b56a13ec869ae595",
       "version_major": 2,
       "version_minor": 0
      },
      "text/plain": [
       "  0%|          | 0/50000 [00:00<?, ?it/s]"
      ]
     },
     "metadata": {},
     "output_type": "display_data"
    },
    {
     "name": "stdout",
     "output_type": "stream",
     "text": [
      "(51, 9)\n",
      "Done with parameter λ_d\n"
     ]
    },
    {
     "data": {
      "application/vnd.jupyter.widget-view+json": {
       "model_id": "33bbe22684e042cea68831c6531b4148",
       "version_major": 2,
       "version_minor": 0
      },
      "text/plain": [
       "  0%|          | 0/50000 [00:00<?, ?it/s]"
      ]
     },
     "metadata": {},
     "output_type": "display_data"
    },
    {
     "name": "stdout",
     "output_type": "stream",
     "text": [
      "(51, 9)\n",
      "Done with parameter μ_h\n"
     ]
    },
    {
     "data": {
      "application/vnd.jupyter.widget-view+json": {
       "model_id": "6db7928717a64671b8a5e5247036a8a0",
       "version_major": 2,
       "version_minor": 0
      },
      "text/plain": [
       "  0%|          | 0/50000 [00:00<?, ?it/s]"
      ]
     },
     "metadata": {},
     "output_type": "display_data"
    },
    {
     "name": "stdout",
     "output_type": "stream",
     "text": [
      "(51, 9)\n",
      "Done with parameter μ_e\n"
     ]
    },
    {
     "data": {
      "application/vnd.jupyter.widget-view+json": {
       "model_id": "7beefd363dd344b481efdbd3e884e396",
       "version_major": 2,
       "version_minor": 0
      },
      "text/plain": [
       "  0%|          | 0/50000 [00:00<?, ?it/s]"
      ]
     },
     "metadata": {},
     "output_type": "display_data"
    },
    {
     "name": "stdout",
     "output_type": "stream",
     "text": [
      "(51, 9)\n",
      "Done with parameter μ_d\n"
     ]
    },
    {
     "data": {
      "application/vnd.jupyter.widget-view+json": {
       "model_id": "84ee063db0c3419e8fdae5287a23a324",
       "version_major": 2,
       "version_minor": 0
      },
      "text/plain": [
       "  0%|          | 0/50000 [00:00<?, ?it/s]"
      ]
     },
     "metadata": {},
     "output_type": "display_data"
    },
    {
     "name": "stdout",
     "output_type": "stream",
     "text": [
      "(51, 9)\n",
      "Done with parameter μ_rd\n"
     ]
    },
    {
     "data": {
      "application/vnd.jupyter.widget-view+json": {
       "model_id": "1622227ec7184b79bb19d2305ace0466",
       "version_major": 2,
       "version_minor": 0
      },
      "text/plain": [
       "  0%|          | 0/50000 [00:00<?, ?it/s]"
      ]
     },
     "metadata": {},
     "output_type": "display_data"
    },
    {
     "name": "stdout",
     "output_type": "stream",
     "text": [
      "(51, 9)\n",
      "Done with parameter μ_rh\n"
     ]
    },
    {
     "data": {
      "application/vnd.jupyter.widget-view+json": {
       "model_id": "6b743c2f83ff4b3197ae811a179c9f56",
       "version_major": 2,
       "version_minor": 0
      },
      "text/plain": [
       "  0%|          | 0/50000 [00:00<?, ?it/s]"
      ]
     },
     "metadata": {},
     "output_type": "display_data"
    },
    {
     "name": "stdout",
     "output_type": "stream",
     "text": [
      "(51, 9)\n",
      "Done with parameter r_1\n"
     ]
    },
    {
     "data": {
      "application/vnd.jupyter.widget-view+json": {
       "model_id": "5bdb3217d6664f969963205330dfa586",
       "version_major": 2,
       "version_minor": 0
      },
      "text/plain": [
       "  0%|          | 0/50000 [00:00<?, ?it/s]"
      ]
     },
     "metadata": {},
     "output_type": "display_data"
    },
    {
     "name": "stdout",
     "output_type": "stream",
     "text": [
      "(51, 9)\n",
      "Done with parameter δ\n"
     ]
    },
    {
     "data": {
      "application/vnd.jupyter.widget-view+json": {
       "model_id": "3bab24d1858d4f69b74e3d00867f634c",
       "version_major": 2,
       "version_minor": 0
      },
      "text/plain": [
       "  0%|          | 0/50000 [00:00<?, ?it/s]"
      ]
     },
     "metadata": {},
     "output_type": "display_data"
    },
    {
     "name": "stdout",
     "output_type": "stream",
     "text": [
      "(51, 9)\n",
      "Done with parameter σ_d\n"
     ]
    },
    {
     "data": {
      "application/vnd.jupyter.widget-view+json": {
       "model_id": "d9c233d9aaeb4a0d8e9bccf6ef50f904",
       "version_major": 2,
       "version_minor": 0
      },
      "text/plain": [
       "  0%|          | 0/50000 [00:00<?, ?it/s]"
      ]
     },
     "metadata": {},
     "output_type": "display_data"
    },
    {
     "name": "stdout",
     "output_type": "stream",
     "text": [
      "(51, 9)\n",
      "Done with parameter β_dd\n"
     ]
    },
    {
     "data": {
      "application/vnd.jupyter.widget-view+json": {
       "model_id": "9d50740361814945b22e497c0ef7d515",
       "version_major": 2,
       "version_minor": 0
      },
      "text/plain": [
       "  0%|          | 0/50000 [00:00<?, ?it/s]"
      ]
     },
     "metadata": {},
     "output_type": "display_data"
    },
    {
     "name": "stdout",
     "output_type": "stream",
     "text": [
      "(51, 9)\n",
      "Done with parameter β_dh\n"
     ]
    },
    {
     "data": {
      "application/vnd.jupyter.widget-view+json": {
       "model_id": "98cdf43f58cd46fabbb013e00c356721",
       "version_major": 2,
       "version_minor": 0
      },
      "text/plain": [
       "  0%|          | 0/50000 [00:00<?, ?it/s]"
      ]
     },
     "metadata": {},
     "output_type": "display_data"
    },
    {
     "name": "stdout",
     "output_type": "stream",
     "text": [
      "(51, 9)\n",
      "Done with parameter ψ_d\n"
     ]
    },
    {
     "data": {
      "application/vnd.jupyter.widget-view+json": {
       "model_id": "d45080c4e8f04472b77358c53e7d0b73",
       "version_major": 2,
       "version_minor": 0
      },
      "text/plain": [
       "  0%|          | 0/50000 [00:00<?, ?it/s]"
      ]
     },
     "metadata": {},
     "output_type": "display_data"
    },
    {
     "name": "stdout",
     "output_type": "stream",
     "text": [
      "(51, 9)\n",
      "Done with parameter ψ_h\n"
     ]
    },
    {
     "data": {
      "application/vnd.jupyter.widget-view+json": {
       "model_id": "8e6621854a57472a8982fc91c511d3a8",
       "version_major": 2,
       "version_minor": 0
      },
      "text/plain": [
       "  0%|          | 0/50000 [00:00<?, ?it/s]"
      ]
     },
     "metadata": {},
     "output_type": "display_data"
    },
    {
     "name": "stdout",
     "output_type": "stream",
     "text": [
      "(51, 9)\n",
      "Done with parameter γ_d\n"
     ]
    },
    {
     "data": {
      "application/vnd.jupyter.widget-view+json": {
       "model_id": "68c19071bc754043a448760de88bac08",
       "version_major": 2,
       "version_minor": 0
      },
      "text/plain": [
       "  0%|          | 0/50000 [00:00<?, ?it/s]"
      ]
     },
     "metadata": {},
     "output_type": "display_data"
    },
    {
     "name": "stdout",
     "output_type": "stream",
     "text": [
      "(51, 9)\n",
      "Done with parameter γ_h\n"
     ]
    },
    {
     "data": {
      "application/vnd.jupyter.widget-view+json": {
       "model_id": "ce472abbbade4d4e98b09e275c2e2da0",
       "version_major": 2,
       "version_minor": 0
      },
      "text/plain": [
       "  0%|          | 0/50000 [00:00<?, ?it/s]"
      ]
     },
     "metadata": {},
     "output_type": "display_data"
    },
    {
     "name": "stdout",
     "output_type": "stream",
     "text": [
      "(51, 9)\n",
      "Done with parameter χ_d\n"
     ]
    },
    {
     "data": {
      "application/vnd.jupyter.widget-view+json": {
       "model_id": "dd409cc1f334422a86ce73284f81d88d",
       "version_major": 2,
       "version_minor": 0
      },
      "text/plain": [
       "  0%|          | 0/50000 [00:00<?, ?it/s]"
      ]
     },
     "metadata": {},
     "output_type": "display_data"
    },
    {
     "name": "stdout",
     "output_type": "stream",
     "text": [
      "(51, 9)\n",
      "Done with parameter χ_h\n"
     ]
    },
    {
     "data": {
      "application/vnd.jupyter.widget-view+json": {
       "model_id": "d2b38f2b438b491e92143c5a3f6e8a32",
       "version_major": 2,
       "version_minor": 0
      },
      "text/plain": [
       "  0%|          | 0/50000 [00:00<?, ?it/s]"
      ]
     },
     "metadata": {},
     "output_type": "display_data"
    },
    {
     "name": "stdout",
     "output_type": "stream",
     "text": [
      "(51, 9)\n",
      "Done with parameter α_d\n"
     ]
    },
    {
     "data": {
      "application/vnd.jupyter.widget-view+json": {
       "model_id": "517bf6cccead429d8820ecd1c9b903ef",
       "version_major": 2,
       "version_minor": 0
      },
      "text/plain": [
       "  0%|          | 0/50000 [00:00<?, ?it/s]"
      ]
     },
     "metadata": {},
     "output_type": "display_data"
    },
    {
     "name": "stdout",
     "output_type": "stream",
     "text": [
      "(51, 9)\n",
      "Done with parameter α_h\n",
      "Ordered from largest to smallest influence overall\n",
      "   param_name         value\n",
      "0         χ_d  6.731819e-02\n",
      "1        β_dd  6.670692e-02\n",
      "2        μ_rd  5.943129e-02\n",
      "3         ψ_h  5.096888e-02\n",
      "4         α_h  4.973136e-02\n",
      "5         λ_h  2.731926e-02\n",
      "6         λ_d  1.971618e-02\n",
      "7         μ_h  1.638940e-02\n",
      "8         μ_d  1.374598e-02\n",
      "9         γ_d  8.441185e-03\n",
      "10        ψ_d  7.483496e-03\n",
      "11        α_d  6.308871e-03\n",
      "12        μ_e  3.280544e-03\n",
      "13        σ_d  1.214161e-03\n",
      "14          δ  6.526619e-05\n",
      "15        r_1  6.461373e-05\n",
      "16       β_dh  1.951764e-06\n",
      "17        χ_h  1.894409e-06\n",
      "18        γ_h  1.715889e-07\n",
      "19       μ_rh  7.296012e-08\n"
     ]
    },
    {
     "data": {
      "application/vnd.jupyter.widget-view+json": {
       "model_id": "140f72c380e440a1b75720d5692c4244",
       "version_major": 2,
       "version_minor": 0
      },
      "text/plain": [
       "  0%|          | 0/50000 [00:00<?, ?it/s]"
      ]
     },
     "metadata": {},
     "output_type": "display_data"
    },
    {
     "name": "stdout",
     "output_type": "stream",
     "text": [
      "All parameters were perturbed. The computation is done.\n"
     ]
    }
   ],
   "source": [
    "plot_all_uncertainty_with_params(original, params, string_params,50000, 0.05)"
   ]
  }
 ],
 "metadata": {
  "kernelspec": {
   "display_name": "Python 3.8.8 ('base')",
   "language": "python",
   "name": "python3"
  },
  "language_info": {
   "codemirror_mode": {
    "name": "ipython",
    "version": 3
   },
   "file_extension": ".py",
   "mimetype": "text/x-python",
   "name": "python",
   "nbconvert_exporter": "python",
   "pygments_lexer": "ipython3",
   "version": "3.8.8"
  },
  "orig_nbformat": 4,
  "vscode": {
   "interpreter": {
    "hash": "89f309fc510569326e958f3e3e82d3e25292ddb234b2d9b2d9997a51e80537a4"
   }
  }
 },
 "nbformat": 4,
 "nbformat_minor": 2
}
